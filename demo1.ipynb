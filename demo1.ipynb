{
 "cells": [
  {
   "cell_type": "code",
   "execution_count": null,
   "metadata": {},
   "outputs": [],
   "source": []
  },
  {
   "cell_type": "markdown",
   "metadata": {},
   "source": [
    "### :附件2节目与序号"
   ]
  },
  {
   "cell_type": "code",
   "execution_count": null,
   "metadata": {},
   "outputs": [],
   "source": [
    "import pandas as pd\n",
    "import numpy\n",
    "\n",
    "sracpe_data=pd.read_csv(\"附件2：全电视产品信息数据.csv\",usecols=[7,8],encoding='gbk')\n",
    "#sracpe_data.shape\n",
    "sracpe_data=sracpe_data.drop_duplicates()\n",
    "#sracpe_data=sracpe_data.reset_index()#append=True,drop=True,inplace=True)\n",
    "out=pd.Series(data=sracpe_data['s_name'].values)\n",
    "#print(sracpe_data.loc[:,['index','s_name']])\n",
    "out.to_csv('A2.csv',encoding='gbk')\n",
    "print(out)"
   ]
  },
  {
   "cell_type": "markdown",
   "metadata": {},
   "source": [
    "### :获取映射字典"
   ]
  },
  {
   "cell_type": "code",
   "execution_count": 3,
   "metadata": {},
   "outputs": [],
   "source": [
    "import csv\n",
    "def row_csv2dict(csv_file):\n",
    "    dict_club={}\n",
    "    with open(csv_file,encoding='gbk')as f:\n",
    "        reader=csv.reader(f,delimiter=',')\n",
    "        for row in reader:\n",
    "            dict_club[row[0]]=row[1]\n",
    "    return dict_club\n"
   ]
  },
  {
   "cell_type": "markdown",
   "metadata": {},
   "source": []
  },
  {
   "cell_type": "code",
   "execution_count": 74,
   "metadata": {},
   "outputs": [
    {
     "name": "stdout",
     "output_type": "stream",
     "text": [
      "构建数据集...\n"
     ]
    }
   ],
   "source": [
    "from __future__ import (absolute_import, division, print_function, unicode_literals)\n",
    "import os\n",
    "import io\n",
    "\n",
    "from surprise import KNNBaseline, Reader\n",
    "from surprise import Dataset\n",
    "\n",
    "\n",
    "channel_dict=row_csv2dict(\"B1.1_channelid_to_channelname.csv\")\n",
    "\n",
    "#file_path = os.path.expanduser('aaaaa.txt')\n",
    "# 指定文件格式\n",
    "reader = Reader(line_format='user item rating', sep=',')\n",
    "# 从文件读取数据\n",
    "user_data = Dataset.load_from_file('aaaaa.txt', reader=reader)\n",
    "user_data.split(n_folds=5)\n",
    "# 计算歌曲和歌曲之间的相似度\n",
    "print(\"构建数据集...\")\n",
    "trainset = user_data.build_full_trainset()\n",
    "#sim_options = {'name': 'pearson_baseline', 'user_based': False}"
   ]
  },
  {
   "cell_type": "code",
   "execution_count": 46,
   "metadata": {},
   "outputs": [
    {
     "data": {
      "text/plain": [
       "'中央1台-高清'"
      ]
     },
     "execution_count": 46,
     "metadata": {},
     "output_type": "execute_result"
    }
   ],
   "source": [
    "channel_dict['1']"
   ]
  },
  {
   "cell_type": "code",
   "execution_count": 17,
   "metadata": {},
   "outputs": [
    {
     "data": {
      "text/plain": [
       "157"
      ]
     },
     "execution_count": 17,
     "metadata": {},
     "output_type": "execute_result"
    }
   ],
   "source": [
    "trainset.n_items"
   ]
  },
  {
   "cell_type": "code",
   "execution_count": 18,
   "metadata": {},
   "outputs": [
    {
     "data": {
      "text/plain": [
       "1043"
      ]
     },
     "execution_count": 18,
     "metadata": {},
     "output_type": "execute_result"
    }
   ],
   "source": [
    "trainset.n_users"
   ]
  },
  {
   "cell_type": "code",
   "execution_count": 75,
   "metadata": {},
   "outputs": [
    {
     "name": "stdout",
     "output_type": "stream",
     "text": [
      "开始训练模型...\n",
      "Estimating biases using als...\n",
      "Computing the msd similarity matrix...\n",
      "Done computing similarity matrix.\n",
      "用户号 10001\n",
      "内部id 973\n",
      "\n",
      "用户  10001  最接近的10个用户为：\n",
      "\n",
      "10545 0\n",
      "11029 1\n",
      "10666 2\n",
      "10567 3\n",
      "10454 4\n",
      "11021 5\n",
      "10366 6\n",
      "11074 7\n",
      "10525 8\n",
      "10648 9\n"
     ]
    }
   ],
   "source": [
    "print(\"开始训练模型...\")\n",
    "sim_options = {'user_based': False}\n",
    "#algo = KNNBaseline(sim_options=sim_options)\n",
    "algo = KNNBaseline()\n",
    "algo.fit(trainset)\n",
    "user_id = '10001'\n",
    "print(\"用户号\", user_id)\n",
    "user_inner_id = algo.trainset.to_inner_uid(user_id)\n",
    "print(\"内部id\", user_inner_id)\n",
    "user_neighbors = algo.get_neighbors(user_inner_id, k=10)\n",
    "\n",
    "# 把歌曲id转成歌曲名字\n",
    "# to_raw_uid映射回去\n",
    "user_neighbors = (algo.trainset.to_raw_uid(inner_id)\n",
    "                       for inner_id in user_neighbors)\n",
    "\n",
    "\n",
    "print()\n",
    "print(\"用户 \", user_id, \" 最接近的10个用户为：\\n\")\n",
    "for user in user_neighbors:\n",
    "    print(user, algo.trainset.to_inner_uid(user))"
   ]
  },
  {
   "cell_type": "code",
   "execution_count": null,
   "metadata": {},
   "outputs": [],
   "source": []
  },
  {
   "cell_type": "code",
   "execution_count": null,
   "metadata": {},
   "outputs": [],
   "source": []
  },
  {
   "cell_type": "code",
   "execution_count": null,
   "metadata": {},
   "outputs": [],
   "source": []
  }
 ],
 "metadata": {
  "kernelspec": {
   "display_name": "Python 3",
   "language": "python",
   "name": "python3"
  },
  "language_info": {
   "codemirror_mode": {
    "name": "ipython",
    "version": 3
   },
   "file_extension": ".py",
   "mimetype": "text/x-python",
   "name": "python",
   "nbconvert_exporter": "python",
   "pygments_lexer": "ipython3",
   "version": "3.6.4"
  }
 },
 "nbformat": 4,
 "nbformat_minor": 2
}
